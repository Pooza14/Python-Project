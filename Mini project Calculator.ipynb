{
 "cells": [
  {
   "cell_type": "code",
   "execution_count": 28,
   "id": "bee67496",
   "metadata": {},
   "outputs": [
    {
     "name": "stdout",
     "output_type": "stream",
     "text": [
      "26\n"
     ]
    }
   ],
   "source": [
    "#WAP to print sum of two numbers?\n",
    "\n",
    "class add:\n",
    "    def __init__(self, first, second):\n",
    "            self.first=first\n",
    "            self.second=second\n",
    "            s=self.first+self.second\n",
    "            print(s)\n",
    "\n",
    "obj=add(12,14)\n",
    "\n",
    "\n"
   ]
  },
  {
   "cell_type": "code",
   "execution_count": 29,
   "id": "4b131bc5",
   "metadata": {},
   "outputs": [
    {
     "name": "stdout",
     "output_type": "stream",
     "text": [
      "26\n"
     ]
    }
   ],
   "source": [
    "class add:\n",
    "    def __init__(self, first, second):\n",
    "            self.first=first\n",
    "            self.second=second\n",
    "\n",
    "obj=add(12,14)\n",
    "print(obj.first+obj.second)\n",
    "\n"
   ]
  },
  {
   "cell_type": "code",
   "execution_count": 47,
   "id": "35ef883f",
   "metadata": {},
   "outputs": [
    {
     "name": "stdout",
     "output_type": "stream",
     "text": [
      "Enter first number:12\n",
      "Enter second number12\n",
      "24\n"
     ]
    }
   ],
   "source": [
    "class add:\n",
    "    \n",
    "    def __init__(self, first, second):\n",
    "                self.first=first\n",
    "                self.second=second\n",
    "    \n",
    "first=int(input(\"Enter first number:\"))\n",
    "second=int(input(\"Enter second number\"))                \n",
    "obj=add(first,second)\n",
    "print(obj.first+obj.second)"
   ]
  },
  {
   "cell_type": "code",
   "execution_count": 8,
   "id": "be149e34",
   "metadata": {},
   "outputs": [
    {
     "name": "stdout",
     "output_type": "stream",
     "text": [
      "Enter first number12\n",
      "Enter second number12\n",
      "24\n"
     ]
    }
   ],
   "source": [
    "class plus:\n",
    "    def __init__(self,f, s):\n",
    "        self.f=f\n",
    "        self.s=s\n",
    "        p=self.f+self.s\n",
    "        print(p)\n",
    "        \n",
    "f=int(input(\"Enter first number\"))\n",
    "s=int(input(\"Enter second number\"))\n",
    "obj=plus(f,s)\n"
   ]
  },
  {
   "cell_type": "markdown",
   "id": "c014a9b2",
   "metadata": {},
   "source": []
  },
  {
   "cell_type": "code",
   "execution_count": 1,
   "id": "bdd68e24",
   "metadata": {},
   "outputs": [],
   "source": [
    "from tkinter import*\n",
    "\n",
    "cal=Tk() #Tk is class of tkinter\n",
    "cal.title(\"Calculator\")\n",
    "operator=\"\"\n",
    "text_input=StringVar()\n",
    "\n",
    "txtDisplay=Entry(cal,font=('arial',20,'bold'),\n",
    "textvariable=text_input,bd=25,insertwidth=4,bg=\"white\",justify=\"right\").grid(columnspan=4)  #it is in row=0 and merge 4 column.\n",
    "\n",
    "btn7=Button(cal,padx=15,pady=15,bd=8,fg=\"white\",font=('arial',20,'bold'),\n",
    "text=\"7\",bg=\"purple\").grid(row=1,column=0)\n",
    "btn8=Button(cal,padx=15,pady=15,bd=8,fg=\"white\",font=('arial',20,'bold'),\n",
    "text=\"8\",bg=\"purple\").grid(row=1,column=1)\n",
    "btn9=Button(cal,padx=15,pady=15,bd=8,fg=\"white\",font=('arial',20,'bold'),\n",
    "text='9',bg=\"purple\").grid(row=1,column=2)\n",
    "btnplus=Button(cal,padx=15,pady=15,bd=8,fg=\"white\",font=('arial',20,'bold'),\n",
    "text=\"+\",bg=\"purple\").grid(row=1,column=3)\n",
    "\n",
    "btn4=Button(cal,padx=15,pady=15,bd=8,fg=\"white\",font=('arial',20,'bold'),\n",
    "text=\"4\",bg=\"purple\").grid(row=2,column=0)\n",
    "btn5=Button(cal,padx=15,pady=15,bd=8,fg=\"white\",font=('arial',20,'bold'),\n",
    "text=\"5\",bg=\"purple\").grid(row=2,column=1)\n",
    "btnplus=Button(cal,padx=15,pady=15,bd=8,fg=\"white\",font=('arial',20,'bold'),\n",
    "text=\"6\",bg=\"purple\").grid(row=2,column=2)\n",
    "btnminus=Button(cal,padx=15,pady=15,bd=8,fg=\"white\",font=('arial',20,'bold'),\n",
    "text=\"-\",bg=\"purple\").grid(row=2,column=3)\n",
    "\n",
    "btn3=Button(cal,padx=15,pady=15,bd=8,fg=\"white\",font=('arial',20,'bold'),\n",
    "text=\"3\",bg=\"purple\").grid(row=3,column=0)\n",
    "btn2=Button(cal,padx=15,pady=15,bd=8,fg=\"white\",font=('arial',20,'bold'),\n",
    "text=\"2\",bg=\"purple\").grid(row=3,column=1)\n",
    "btn1=Button(cal,padx=15,pady=15,bd=8,fg=\"white\",font=('arial',20,'bold'),\n",
    "text=\"1\",bg=\"purple\").grid(row=3,column=2)\n",
    "btnmul=Button(cal,padx=15,pady=15,bd=8,fg=\"white\",font=('arial',20,'bold'),\n",
    "text=\"*\",bg=\"purple\").grid(row=3,column=3)\n",
    "\n",
    "btn0=Button(cal,padx=15,pady=15,bd=8,fg=\"white\",font=('arial',20,'bold'),\n",
    "text=\"0\",bg=\"purple\").grid(row=4,column=0)\n",
    "btnclear=Button(cal,padx=15,pady=15,bd=8,fg=\"white\",font=('arial',20,'bold'),\n",
    "text=\"Clr\",bg=\"purple\").grid(row=4,column=1)\n",
    "btnequalto=Button(cal,padx=15,pady=15,bd=8,fg=\"white\",font=('arial',20,'bold'),\n",
    "text=\"=\",bg=\"purple\").grid(row=4,column=2)\n",
    "btndiv=Button(cal,padx=15,pady=15,bd=8,fg=\"white\",font=('arial',20,'bold'),\n",
    "text=\"/\",bg=\"purple\").grid(row=4,column=3)\n",
    "\n",
    "cal.mainloop()"
   ]
  },
  {
   "cell_type": "code",
   "execution_count": null,
   "id": "c87e6859",
   "metadata": {},
   "outputs": [],
   "source": [
    "#login/signup page\n",
    "#student management system\n",
    "#inheritance"
   ]
  }
 ],
 "metadata": {
  "kernelspec": {
   "display_name": "Python 3 (ipykernel)",
   "language": "python",
   "name": "python3"
  },
  "language_info": {
   "codemirror_mode": {
    "name": "ipython",
    "version": 3
   },
   "file_extension": ".py",
   "mimetype": "text/x-python",
   "name": "python",
   "nbconvert_exporter": "python",
   "pygments_lexer": "ipython3",
   "version": "3.9.12"
  }
 },
 "nbformat": 4,
 "nbformat_minor": 5
}
