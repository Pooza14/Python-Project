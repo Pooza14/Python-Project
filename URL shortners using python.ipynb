{
 "cells": [
  {
   "cell_type": "code",
   "execution_count": 2,
   "id": "49c47ef2",
   "metadata": {},
   "outputs": [
    {
     "name": "stdout",
     "output_type": "stream",
     "text": [
      "Requirement already satisfied: pyshorteners in c:\\users\\user\\anaconda3\\lib\\site-packages (1.0.1)\n",
      "Requirement already satisfied: requests in c:\\users\\user\\anaconda3\\lib\\site-packages (from pyshorteners) (2.27.1)\n",
      "Requirement already satisfied: urllib3<1.27,>=1.21.1 in c:\\users\\user\\anaconda3\\lib\\site-packages (from requests->pyshorteners) (1.26.9)\n",
      "Requirement already satisfied: idna<4,>=2.5 in c:\\users\\user\\anaconda3\\lib\\site-packages (from requests->pyshorteners) (3.3)\n",
      "Requirement already satisfied: charset-normalizer~=2.0.0 in c:\\users\\user\\anaconda3\\lib\\site-packages (from requests->pyshorteners) (2.0.4)\n",
      "Requirement already satisfied: certifi>=2017.4.17 in c:\\users\\user\\anaconda3\\lib\\site-packages (from requests->pyshorteners) (2021.10.8)\n",
      "Note: you may need to restart the kernel to use updated packages.\n"
     ]
    }
   ],
   "source": [
    "pip install pyshorteners"
   ]
  },
  {
   "cell_type": "code",
   "execution_count": null,
   "id": "7fea7f71",
   "metadata": {},
   "outputs": [],
   "source": [
    "from tkinter import *\n",
    "import pyshorteners\n",
    "\n",
    "root=Tk()\n",
    "root.title('My First Project')\n",
    "root.geometry(\"500x500\")\n",
    "\n",
    "def shorten():\n",
    "    if short.get():\n",
    "        short.delete(0,END)\n",
    "        \n",
    "    if my_input.get():\n",
    "        #convert to short\n",
    "        url=pyshorteners.Shortener().tinyurl.short(my_input.get())\n",
    "        #output to screen\n",
    "        short.insert(END,url)\n",
    "        \n",
    "        #reverse the url\n",
    "        print(pyshorteners.Shortener().tinyurl.expand(url))\n",
    "\n",
    "my_label=Label(root, text=\"Enter the link to make short\", font=(\"Hevetica\", 25))\n",
    "my_label.pack(pady=20)\n",
    "\n",
    "my_input=Entry(root,font=(\"Hevetica\", 25),width=26)\n",
    "my_input.pack(pady=20)\n",
    "\n",
    "my_button=Button(root,text=\"Click to shorten\", command=shorten,fg=\"white\", font=(\"Hevetica\",24), background=\"blue\") \n",
    "my_button.pack(pady=20)\n",
    "\n",
    "short_label=Label(root,text=\"Shortened Link\", font=(\"Hevetica\",14))\n",
    "short_label.pack(pady=50)\n",
    "\n",
    "short=Entry(root, font=(\"Hevetica\",18), justify=CENTER, width=25)\n",
    "short.pack(pady=10)\n",
    "\n",
    "root.mainloop()"
   ]
  },
  {
   "cell_type": "code",
   "execution_count": null,
   "id": "12c59262",
   "metadata": {},
   "outputs": [],
   "source": []
  },
  {
   "cell_type": "code",
   "execution_count": null,
   "id": "c031e4ae",
   "metadata": {},
   "outputs": [],
   "source": []
  }
 ],
 "metadata": {
  "kernelspec": {
   "display_name": "Python 3 (ipykernel)",
   "language": "python",
   "name": "python3"
  },
  "language_info": {
   "codemirror_mode": {
    "name": "ipython",
    "version": 3
   },
   "file_extension": ".py",
   "mimetype": "text/x-python",
   "name": "python",
   "nbconvert_exporter": "python",
   "pygments_lexer": "ipython3",
   "version": "3.9.12"
  }
 },
 "nbformat": 4,
 "nbformat_minor": 5
}
